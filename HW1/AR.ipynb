{
 "cells": [
  {
   "attachments": {},
   "cell_type": "markdown",
   "metadata": {},
   "source": [
    "# Advanced Robotics \n",
    "1. Ahmad Hamdan\n",
    "2. Ghadeer Issa"
   ]
  },
  {
   "cell_type": "code",
   "execution_count": 24,
   "metadata": {},
   "outputs": [],
   "source": [
    "import numpy as np\n",
    "import roboticstoolbox as rtb\n",
    "from spatialmath import *\n",
    "from math import pi\n",
    "import matplotlib.pyplot as plt\n",
    "from matplotlib import cm\n",
    "np.set_printoptions(linewidth=100, formatter={'float': lambda x: f\"{x:8.4g}\" if abs(x) > 1e-10 else f\"{0:8.4g}\"})\n",
    "\n",
    "#%matplotlib notebook\n",
    "%matplotlib Qt\n",
    "#%matplotlib widgets"
   ]
  },
  {
   "attachments": {},
   "cell_type": "markdown",
   "metadata": {},
   "source": [
    "![title](img/banda.png)"
   ]
  },
  {
   "attachments": {},
   "cell_type": "markdown",
   "metadata": {},
   "source": [
    "## DH Parameters"
   ]
  },
  {
   "cell_type": "code",
   "execution_count": 25,
   "metadata": {},
   "outputs": [
    {
     "name": "stdout",
     "output_type": "stream",
     "text": [
      "DHRobot: Panda (by Franka Emika), 7 joints (RRRRRRR), dynamics, geometry, modified DH parameters\n",
      "┌────────┬────────┬─────┬───────┬─────────┬────────┐\n",
      "│ aⱼ₋₁   │  ⍺ⱼ₋₁  │ θⱼ  │  dⱼ   │   q⁻    │   q⁺   │\n",
      "├────────┼────────┼─────┼───────┼─────────┼────────┤\n",
      "│    0.0\u001b[0m │   0.0°\u001b[0m │  q1\u001b[0m │ 0.333\u001b[0m │ -166.0°\u001b[0m │ 166.0°\u001b[0m │\n",
      "│    0.0\u001b[0m │ -90.0°\u001b[0m │  q2\u001b[0m │   0.0\u001b[0m │ -101.0°\u001b[0m │ 101.0°\u001b[0m │\n",
      "│    0.0\u001b[0m │  90.0°\u001b[0m │  q3\u001b[0m │ 0.316\u001b[0m │ -166.0°\u001b[0m │ 166.0°\u001b[0m │\n",
      "│ 0.0825\u001b[0m │  90.0°\u001b[0m │  q4\u001b[0m │   0.0\u001b[0m │ -176.0°\u001b[0m │  -4.0°\u001b[0m │\n",
      "│-0.0825\u001b[0m │ -90.0°\u001b[0m │  q5\u001b[0m │ 0.384\u001b[0m │ -166.0°\u001b[0m │ 166.0°\u001b[0m │\n",
      "│    0.0\u001b[0m │  90.0°\u001b[0m │  q6\u001b[0m │   0.0\u001b[0m │   -1.0°\u001b[0m │ 215.0°\u001b[0m │\n",
      "│  0.088\u001b[0m │  90.0°\u001b[0m │  q7\u001b[0m │ 0.107\u001b[0m │ -166.0°\u001b[0m │ 166.0°\u001b[0m │\n",
      "└────────┴────────┴─────┴───────┴─────────┴────────┘\n",
      "\n",
      "┌─────┬──────┐\n",
      "│tool\u001b[0m │ None\u001b[0m │\n",
      "└─────┴──────┘\n",
      "\n",
      "┌─────┬─────┬────────┬─────┬───────┬─────┬───────┬──────┐\n",
      "│name │ q0  │ q1     │ q2  │ q3    │ q4  │ q5    │ q6   │\n",
      "├─────┼─────┼────────┼─────┼───────┼─────┼───────┼──────┤\n",
      "│  qr\u001b[0m │  0°\u001b[0m │ -17.2°\u001b[0m │  0°\u001b[0m │ -126°\u001b[0m │  0°\u001b[0m │  115°\u001b[0m │  45°\u001b[0m │\n",
      "│  qz\u001b[0m │  0°\u001b[0m │  0°\u001b[0m    │  0°\u001b[0m │  0°\u001b[0m   │  0°\u001b[0m │  0°\u001b[0m   │  0°\u001b[0m  │\n",
      "└─────┴─────┴────────┴─────┴───────┴─────┴───────┴──────┘\n",
      "\n"
     ]
    }
   ],
   "source": [
    "robot = rtb.models.DH.Panda()                  # instantiate robot model\n",
    "print(robot)"
   ]
  },
  {
   "attachments": {},
   "cell_type": "markdown",
   "metadata": {},
   "source": [
    "The first table shows the kinematic parameters, and from the column titles we can see clearly that this is expressed in terms of standard Denavit-Hartenberg parameters.  The first column shows that the joint variables qi are rotations since they are in the θ column.  Joint limits are also shown.  Joint flip (motion in the opposite sense) would be indicated by the joint variable being shown as for example like `-q3`.\n",
    "\n",
    "The second table shows some named joint configurations.  For example `ur10.qr`"
   ]
  },
  {
   "attachments": {},
   "cell_type": "markdown",
   "metadata": {},
   "source": [
    "## Robot Model"
   ]
  },
  {
   "cell_type": "code",
   "execution_count": 26,
   "metadata": {},
   "outputs": [
    {
     "name": "stdout",
     "output_type": "stream",
     "text": [
      "ERobot: panda (by Franka Emika), 7 joints (RRRRRRR), 1 gripper, geometry, collision\n",
      "┌─────┬──────────────┬───────┬─────────────┬────────────────────────────────────────────────┐\n",
      "│link │     link     │ joint │   parent    │              ETS: parent to link               │\n",
      "├─────┼──────────────┼───────┼─────────────┼────────────────────────────────────────────────┤\n",
      "│   0\u001b[0m │ \u001b[38;5;4mpanda_link0\u001b[0m  │      \u001b[0m │ BASE\u001b[0m        │ \u001b[0m                                               │\n",
      "│   1\u001b[0m │ panda_link1\u001b[0m  │     0\u001b[0m │ panda_link0\u001b[0m │ SE3(0, 0, 0.333) ⊕ Rz(q0)\u001b[0m                      │\n",
      "│   2\u001b[0m │ panda_link2\u001b[0m  │     1\u001b[0m │ panda_link1\u001b[0m │ SE3(-90°, -0°, 0°) ⊕ Rz(q1)\u001b[0m                    │\n",
      "│   3\u001b[0m │ panda_link3\u001b[0m  │     2\u001b[0m │ panda_link2\u001b[0m │ SE3(0, -0.316, 0; 90°, -0°, 0°) ⊕ Rz(q2)\u001b[0m       │\n",
      "│   4\u001b[0m │ panda_link4\u001b[0m  │     3\u001b[0m │ panda_link3\u001b[0m │ SE3(0.0825, 0, 0; 90°, -0°, 0°) ⊕ Rz(q3)\u001b[0m       │\n",
      "│   5\u001b[0m │ panda_link5\u001b[0m  │     4\u001b[0m │ panda_link4\u001b[0m │ SE3(-0.0825, 0.384, 0; -90°, -0°, 0°) ⊕ Rz(q4)\u001b[0m │\n",
      "│   6\u001b[0m │ panda_link6\u001b[0m  │     5\u001b[0m │ panda_link5\u001b[0m │ SE3(90°, -0°, 0°) ⊕ Rz(q5)\u001b[0m                     │\n",
      "│   7\u001b[0m │ panda_link7\u001b[0m  │     6\u001b[0m │ panda_link6\u001b[0m │ SE3(0.088, 0, 0; 90°, -0°, 0°) ⊕ Rz(q6)\u001b[0m        │\n",
      "│   8\u001b[0m │ \u001b[38;5;4m@panda_link8\u001b[0m │      \u001b[0m │ panda_link7\u001b[0m │ SE3(0, 0, 0.107)\u001b[0m                               │\n",
      "└─────┴──────────────┴───────┴─────────────┴────────────────────────────────────────────────┘\n",
      "\n",
      "┌─────┬─────┬────────┬─────┬───────┬─────┬───────┬──────┐\n",
      "│name │ q0  │ q1     │ q2  │ q3    │ q4  │ q5    │ q6   │\n",
      "├─────┼─────┼────────┼─────┼───────┼─────┼───────┼──────┤\n",
      "│  qr\u001b[0m │  0°\u001b[0m │ -17.2°\u001b[0m │  0°\u001b[0m │ -126°\u001b[0m │  0°\u001b[0m │  115°\u001b[0m │  45°\u001b[0m │\n",
      "│  qz\u001b[0m │  0°\u001b[0m │  0°\u001b[0m    │  0°\u001b[0m │  0°\u001b[0m   │  0°\u001b[0m │  0°\u001b[0m   │  0°\u001b[0m  │\n",
      "└─────┴─────┴────────┴─────┴───────┴─────┴───────┴──────┘\n",
      "\n"
     ]
    }
   ],
   "source": [
    "robot = rtb.models.Panda()                  # instantiate robot model\n",
    "print(robot)"
   ]
  },
  {
   "cell_type": "code",
   "execution_count": 27,
   "metadata": {},
   "outputs": [
    {
     "data": {
      "text/plain": [
       "Swift backend, t = 0.05, scene:\n",
       "  panda"
      ]
     },
     "execution_count": 27,
     "metadata": {},
     "output_type": "execute_result"
    }
   ],
   "source": [
    "robot.plot(robot.qr)"
   ]
  },
  {
   "attachments": {},
   "cell_type": "markdown",
   "metadata": {},
   "source": [
    "## Forward Kinematics"
   ]
  },
  {
   "cell_type": "code",
   "execution_count": 7,
   "metadata": {},
   "outputs": [
    {
     "name": "stdout",
     "output_type": "stream",
     "text": [
      "  \u001b[38;5;1m 0.5099  \u001b[0m \u001b[38;5;1m-0.8165  \u001b[0m \u001b[38;5;1m 0.2709  \u001b[0m \u001b[38;5;4m-0.1506  \u001b[0m  \u001b[0m\n",
      "  \u001b[38;5;1m-0.6557  \u001b[0m \u001b[38;5;1m-0.5727  \u001b[0m \u001b[38;5;1m-0.492   \u001b[0m \u001b[38;5;4m-0.1306  \u001b[0m  \u001b[0m\n",
      "  \u001b[38;5;1m 0.5568  \u001b[0m \u001b[38;5;1m 0.07326 \u001b[0m \u001b[38;5;1m-0.8274  \u001b[0m \u001b[38;5;4m 0.8901  \u001b[0m  \u001b[0m\n",
      "  \u001b[38;5;244m 0       \u001b[0m \u001b[38;5;244m 0       \u001b[0m \u001b[38;5;244m 0       \u001b[0m \u001b[38;5;244m 1       \u001b[0m  \u001b[0m\n",
      "\n"
     ]
    }
   ],
   "source": [
    "T = robot.fkine([-0.5, -0.5, -0.4, -0.4, -0.5, 0.6, 0.3])  # forward kinematics\n",
    "print(T)"
   ]
  },
  {
   "attachments": {},
   "cell_type": "markdown",
   "metadata": {},
   "source": [
    "## Inverse\n",
    "```ikine_LM ```is a generalised iterative numerical solution based on Levenberg-Marquadt minimization, and additional status results are also returned as part of a named tuple."
   ]
  },
  {
   "cell_type": "code",
   "execution_count": 23,
   "metadata": {},
   "outputs": [
    {
     "name": "stdout",
     "output_type": "stream",
     "text": [
      "IKsolution(q=array([ -0.5582,  -0.4728,   -0.495,  -0.3804,  -0.3841,   0.6033,   0.2596]), success=True, reason=None, iterations=18, residual=7.920168289901014e-11)\n"
     ]
    }
   ],
   "source": [
    "sol = robot.ikine_LM(T)                     # inverse kinematics\n",
    "print(sol)"
   ]
  },
  {
   "attachments": {},
   "cell_type": "markdown",
   "metadata": {},
   "source": [
    "## Plot \n",
    "Plotting the robot model and configuration using swift\n"
   ]
  },
  {
   "cell_type": "code",
   "execution_count": 24,
   "metadata": {},
   "outputs": [
    {
     "data": {
      "text/plain": [
       "Swift backend, t = 0.05, scene:\n",
       "  panda"
      ]
     },
     "execution_count": 24,
     "metadata": {},
     "output_type": "execute_result"
    }
   ],
   "source": [
    "robot.plot(sol.q, backend='swift')"
   ]
  },
  {
   "attachments": {},
   "cell_type": "markdown",
   "metadata": {},
   "source": [
    "## Jacobian\n",
    "\n",
    "Calculating Jacbian and simulating the movement between 2 points."
   ]
  },
  {
   "cell_type": "code",
   "execution_count": 25,
   "metadata": {},
   "outputs": [
    {
     "name": "stdout",
     "output_type": "stream",
     "text": [
      "[[ 0.06223   0.3462  0.06223  -0.1228  0.06223   0.1488        0]\n",
      " [-0.06223   0.3462 -0.06223  -0.1228 -0.06223   0.1488        0]\n",
      " [       0    0.088        0  -0.0055        0   -0.088        0]\n",
      " [       0   0.7071        0  -0.7071        0  -0.7071        0]\n",
      " [       0  -0.7071        0   0.7071        0   0.7071        0]\n",
      " [      -1        0       -1        0       -1        0        1]]\n"
     ]
    }
   ],
   "source": [
    "Je = robot.jacobe([0,0,0,0,0,0, 0])  \n",
    "print(Je)"
   ]
  },
  {
   "cell_type": "code",
   "execution_count": 26,
   "metadata": {},
   "outputs": [
    {
     "data": {
      "text/plain": [
       "Swift backend, t = 4.99999999999999, scene:\n",
       "  panda"
      ]
     },
     "execution_count": 26,
     "metadata": {},
     "output_type": "execute_result"
    }
   ],
   "source": [
    "#simulating trajectory between 2 configurations\n",
    "traj = rtb.jtraj(robot.qr, sol.q, 100)\n",
    "robot.plot(traj.q, backend='swift')"
   ]
  },
  {
   "attachments": {},
   "cell_type": "markdown",
   "metadata": {},
   "source": [
    "## Dynamics"
   ]
  },
  {
   "cell_type": "code",
   "execution_count": 8,
   "metadata": {},
   "outputs": [
    {
     "name": "stdout",
     "output_type": "stream",
     "text": [
      "[       0    -10.6        0    14.59        0   0.7089        0]\n"
     ]
    }
   ],
   "source": [
    "robot = rtb.models.DH.Panda()\n",
    "#print(robot)\n",
    "tau = robot.rne(robot.qr, np.zeros((7,)), np.zeros((7,)))\n",
    "print(tau)"
   ]
  },
  {
   "cell_type": "code",
   "execution_count": 28,
   "metadata": {},
   "outputs": [
    {
     "data": {
      "text/plain": [
       "array([       0,    -10.6,        0,    14.59,        0,   0.7089,        0])"
      ]
     },
     "execution_count": 28,
     "metadata": {},
     "output_type": "execute_result"
    }
   ],
   "source": [
    "robot.gravload(robot.qr)"
   ]
  },
  {
   "cell_type": "code",
   "execution_count": 29,
   "metadata": {},
   "outputs": [
    {
     "data": {
      "text/plain": [
       "array([[  0.7157, -0.009531,   0.7227, -0.001752,  0.01999, 0.001711, -0.004823],\n",
       "       [-0.009531,    1.666, -0.008879,  -0.6112, 0.0008622, -0.03739,  0.00137],\n",
       "       [  0.7227, -0.008879,   0.8504, -0.003926,    0.015, 0.001659, -0.004655],\n",
       "       [-0.001752,  -0.6112, -0.003926,   0.7108, -0.0008622,  0.06189, -0.00137],\n",
       "       [ 0.01999, 0.0008622,    0.015, -0.0008622,  0.02389, -0.0006332, 0.001711],\n",
       "       [0.001711, -0.03739, 0.001659,  0.06189, -0.0006332,  0.03039, -0.00137],\n",
       "       [-0.004823,  0.00137, -0.004655, -0.00137, 0.001711, -0.00137, 0.004815]])"
      ]
     },
     "execution_count": 29,
     "metadata": {},
     "output_type": "execute_result"
    }
   ],
   "source": [
    "robot.inertia(robot.qr)"
   ]
  },
  {
   "attachments": {},
   "cell_type": "markdown",
   "metadata": {},
   "source": [
    "The velocity terms are a bit harder to comprehend but they mean that rotation of one joint (and its link) can exert a torque on other joints. Consider that the should joint is rotating at 1 rad/sec, then the torque will be"
   ]
  },
  {
   "attachments": {},
   "cell_type": "markdown",
   "metadata": {},
   "source": [
    "# Calibration\n"
   ]
  },
  {
   "cell_type": "code",
   "execution_count": 4,
   "metadata": {},
   "outputs": [
    {
     "name": "stdout",
     "output_type": "stream",
     "text": [
      "tz(0.333) ⊕ Rz(q0) ⊕ Ry(q1) ⊕ tz(0.316) ⊕ Rz(q2) ⊕ tx(0.0825) ⊕ Ry(-q3) ⊕ tx(-0.0825) ⊕ tz(0.384) ⊕ Rz(q4) ⊕ Ry(-q5) ⊕ tx(0.088) ⊕ Rx(180°) ⊕ tz(0.107) ⊕ Rz(q6)\n",
      "\n",
      "  \u001b[38;5;1m 0.7071  \u001b[0m \u001b[38;5;1m 0.7071  \u001b[0m \u001b[38;5;1m 0       \u001b[0m \u001b[38;5;4m 0.088   \u001b[0m  \u001b[0m\n",
      "  \u001b[38;5;1m 0.7071  \u001b[0m \u001b[38;5;1m-0.7071  \u001b[0m \u001b[38;5;1m 0       \u001b[0m \u001b[38;5;4m 0       \u001b[0m  \u001b[0m\n",
      "  \u001b[38;5;1m 0       \u001b[0m \u001b[38;5;1m 0       \u001b[0m \u001b[38;5;1m-1       \u001b[0m \u001b[38;5;4m 0.823   \u001b[0m  \u001b[0m\n",
      "  \u001b[38;5;244m 0       \u001b[0m \u001b[38;5;244m 0       \u001b[0m \u001b[38;5;244m 0       \u001b[0m \u001b[38;5;244m 1       \u001b[0m  \u001b[0m\n",
      "\n",
      "  \u001b[38;5;1m 0.7071  \u001b[0m \u001b[38;5;1m 0.7071  \u001b[0m \u001b[38;5;1m 0       \u001b[0m \u001b[38;5;4m 0.088   \u001b[0m  \u001b[0m\n",
      "  \u001b[38;5;1m 0.7071  \u001b[0m \u001b[38;5;1m-0.7071  \u001b[0m \u001b[38;5;1m 0       \u001b[0m \u001b[38;5;4m 0       \u001b[0m  \u001b[0m\n",
      "  \u001b[38;5;1m 0       \u001b[0m \u001b[38;5;1m 0       \u001b[0m \u001b[38;5;1m-1       \u001b[0m \u001b[38;5;4m 0.823   \u001b[0m  \u001b[0m\n",
      "  \u001b[38;5;244m 0       \u001b[0m \u001b[38;5;244m 0       \u001b[0m \u001b[38;5;244m 0       \u001b[0m \u001b[38;5;244m 1       \u001b[0m  \u001b[0m\n",
      "\n"
     ]
    }
   ],
   "source": [
    "from spatialmath import SE3\n",
    "E1 = rtb.ET.tz(0.333)\n",
    "E2 = rtb.ET.Rz()\n",
    "E3 = rtb.ET.Ry()\n",
    "E4 = rtb.ET.tz(0.316)\n",
    "E5 = rtb.ET.Rz()\n",
    "E6 = rtb.ET.tx(0.0825)\n",
    "E7 = rtb.ET.Ry(flip=True)\n",
    "E8 = rtb.ET.tx(-0.0825)\n",
    "E9 = rtb.ET.tz(0.384)\n",
    "E10 = rtb.ET.Rz()\n",
    "E11 = rtb.ET.Ry(flip=True)\n",
    "E12 = rtb.ET.tx(0.088)\n",
    "E13 = rtb.ET.Rx(np.pi)\n",
    "E14 = rtb.ET.tz(0.107)\n",
    "E15 = rtb.ET.Rz()\n",
    "robot = rtb.models.DH.Panda()\n",
    "\n",
    "# We can make an ETS representing a Panda by incorprating all 15 ETs into an ETS\n",
    "panda = E1 * E2 * E3 * E4 * E5 * E6 * E7 * E8 * E9 * E10 * E11 * E12 * E13 * E14 * E15\n",
    "\n",
    "# View the ETS\n",
    "print(panda)\n",
    "print()\n",
    "\n",
    "q1=0\n",
    "q2=0\n",
    "q3=0\n",
    "q4=0\n",
    "q5=0\n",
    "q6=0\n",
    "q7=0\n",
    "\n",
    "d0 = 0.333\n",
    "d1 = 0.316\n",
    "d2 = 0.0825\n",
    "d3 = -0.0825\n",
    "d4= 0.384\n",
    "d5 = 0.088\n",
    "d6 = 210\n",
    "\n",
    "E1 = SE3.Tz(0.333)\n",
    "E2 = SE3.Rz(q1)\n",
    "E3 = SE3.Ry(q2)\n",
    "E4 = SE3.Tz(0.316)\n",
    "E5 = SE3.Rz(q3)\n",
    "E6 = SE3.Tx(0.0825)\n",
    "E7 = SE3.Ry(-q4)\n",
    "E8 = SE3.Tx(-0.0825)\n",
    "E9 = SE3.Tz(0.384)\n",
    "E10 = SE3.Rz(q5)\n",
    "E11 = SE3.Ry(-q6)\n",
    "E12 = SE3.Tx(0.088)\n",
    "E13 = SE3.Rx(np.pi)\n",
    "E14 = SE3.Tz(0.210)\n",
    "E15 = SE3.Rz((-np.pi/4) + q7) \n",
    "\n",
    "panda = E1 * E2 * E3 * E4 * E5 * E6 * E7 * E8 * E9 * E10 * E11 * E12 * E13 * E14 * E15\n",
    "print(panda)\n",
    "\n",
    "print(robot.fkine([0, 0, 0, -0, 0, -0, 0]))\n",
    "\n"
   ]
  },
  {
   "attachments": {},
   "cell_type": "markdown",
   "metadata": {},
   "source": [
    "### Utils\n",
    "a collection of tranformation matrix"
   ]
  },
  {
   "cell_type": "code",
   "execution_count": 5,
   "metadata": {},
   "outputs": [],
   "source": [
    "cos=np.cos\n",
    "sin=np.sin\n",
    "pi=np.pi\n",
    "\n",
    "\n",
    "def Rxd(phi):\n",
    "    rx = np.array([[ 0,         0,         0, 0],\n",
    "                   [0, -sin(phi),  -cos(phi), 0],\n",
    "                   [0, cos(phi), -sin(phi), 0],\n",
    "                   [0,         0,         0, 0]])\n",
    "    return SE3(rx, check=False)\n",
    "\n",
    "def Ryd(phi):\n",
    "    ry = np.array([[ -sin(phi), 0,  cos(phi), 0],\n",
    "                   [0,         0,         0, 0],\n",
    "                   [-cos(phi), 0, -sin(phi), 0],\n",
    "                   [0,         0,         0, 0]])\n",
    "    return SE3(ry, check=False)\n",
    "\n",
    "def Rzd(phi):\n",
    "    rz = np.array([[ -sin(phi),  -cos(phi), 0, 0],\n",
    "                   [ cos(phi), -sin(phi), 0, 0],\n",
    "                   [0,         0,         0, 0],\n",
    "                   [0,         0,         0, 0]])\n",
    "    return SE3(rz, check=False)\n",
    "Txd0 = np.array([[0,   0,  0,  1],\n",
    "                   [0,   0,  0,  0],\n",
    "                   [0,   0,  0,  0],\n",
    "                   [0,   0,  0,  0]])\n",
    "Tyd0=np.array([[0,   0,  0,  0],\n",
    "                   [0,   0,  0,  1],\n",
    "                   [0,   0,  0,  0],\n",
    "                   [0,   0,  0,  0]])\n",
    "Tzd0= np.array([[0,   0,  0,  0],\n",
    "                   [0,   0,  0,  0],\n",
    "                   [0,   0,  0,  1],\n",
    "                   [0,   0,  0,  0]])\n",
    "\n",
    "Txd=SE3(Txd0, check=False)\n",
    "Tyd=SE3(Tyd0, check=False)\n",
    "Tzd=SE3(Tzd0, check=False)\n",
    "\n",
    "\n",
    "\n",
    "Tx=SE3.Tx\n",
    "Ty=SE3.Ty\n",
    "Tz=SE3.Tz\n",
    "Rx=SE3.Rx\n",
    "Ry=SE3.Ry\n",
    "Rz=SE3.Rz\n"
   ]
  },
  {
   "attachments": {},
   "cell_type": "markdown",
   "metadata": {},
   "source": [
    "## Irreducable model derivation:\n",
    "\n",
    "$T=[T_xT_yT_zR_xR_yR_z]_b.\n",
    "R_z(q_1+\\Delta q_1).[T_xT_yR_xR_y].\n",
    "R_y(q_2+\\Delta q_2).[T_xT_zR_xR_z].\n",
    "R_z(q_3+\\Delta q_3).[T_xT_yR_xR_y].\n",
    "R_y(q_4+\\Delta q_4).[T_xT_zR_xR_z].\n",
    "R_z(q_5+\\Delta q_5).[T_xT_yR_xR_y].\n",
    "R_y(q_6+\\Delta q_6).[T_xT_zR_xR_z].\n",
    "R_z(q_7+\\Delta q_7).[T_xT_yR_xR_y].\n",
    "[T_xT_yT_zR_xR_yR_z]_t$\n",
    "\n",
    "\n",
    "\n",
    "\n",
    "$T=[T_xT_yT_zR_xR_yR_z]_b.\n",
    "R_z(q_1+\\cancel{\\Delta q_1}).[T_xT_yR_x\\cancel{R_y}].\n",
    "R_y(q_2+\\Delta q_2).[T_xT_zR_x\\cancel{R_z}].\n",
    "R_z(q_3+\\Delta q_3).[T_xT_yR_x\\cancel{R_y}].\n",
    "R_y(q_4+\\Delta q_4).[T_xT_zR_x\\cancel{R_z}].\n",
    "R_z(q_5+\\Delta q_5).[T_xT_yR_x\\cancel{R_y}].\n",
    "R_y(q_6+\\Delta q_6).[T_x\\cancel{T_z}R_x\\cancel{R_z}].\n",
    "R_z(q_7+\\cancel{\\Delta q_7}).[\\cancel{T_x}\\cancel{T_y}\\cancel{R_x}\\cancel{R_y}].\n",
    "[\\cancel{T_x}\\cancel{T_y}\\cancel{T_z}\\cancel{R_x}\\cancel{R_y}\\cancel{R_z}]_t$\n",
    "\n",
    "\n",
    "\n",
    "\n",
    "$T_{robot}=R_z(q_1).[T_xT_yR_x].\n",
    "R_y(q_2+\\Delta q_2).[T_xT_zR_x].\n",
    "R_z(q_3+\\Delta q_3).[T_xT_yR_x].\n",
    "R_y(q_4+\\Delta q_4).[T_xT_zR_x].\n",
    "R_z(q_5+\\Delta q_5).[T_xT_yR_x].\n",
    "R_y(q_6+\\Delta q_6).[T_xR_x].\n",
    "R_z(q_7)$\n"
   ]
  },
  {
   "attachments": {},
   "cell_type": "markdown",
   "metadata": {},
   "source": [
    "$\\mathbf{\\pi}=\\{ p_{x1} \\quad p_{y1} \\quad \\varphi_{x1} \n",
    "\\quad \\Delta q_2 \\quad p_{x2} \\quad p_{z2} \\quad \\varphi_{x2}\n",
    "\\quad \\Delta q_3 \\quad p_{x3} \\quad p_{y3} \\quad \\varphi_{y3} \n",
    "\\quad \\Delta q_4 \\quad p_{x4} \\quad p_{z4} \\quad \\varphi_{x4} \n",
    "\\quad \\Delta q_5 \\quad p_{x5} \\quad p_{y5} \\quad \\varphi_{x5} \n",
    "\\quad \\Delta q_6 \\quad p_{x6}  \\quad \\varphi_{x6} \\}$"
   ]
  },
  {
   "cell_type": "markdown",
   "metadata": {},
   "source": [
    "\n",
    "$\\mathbf{\\pi}_0=\\{ 0 \\quad 0 \\quad 0 \\quad 0 \\quad 0 \\quad d_1 \\quad 0 \\quad 0 \n",
    "\\quad d_2\\quad 0 \\quad 0 \\quad 0 \\quad d_3 \\quad d_4 \\quad 0 \\quad 0 \n",
    "\\quad 0 \\quad 0 \\quad 0 \\quad 0 \\quad d_5 \\quad 0 \n",
    "\\}$"
   ]
  },
  {
   "attachments": {},
   "cell_type": "markdown",
   "metadata": {},
   "source": [
    "in case of $\\mathbf{\\pi}_0$ the equation should be as follows:\n",
    "\n",
    "$T_{robot}=T_{base}.[R_z(q_1).R_y(q_2).T_z(d1).R_z(q_3).T_x(d2).R_y(q_4).T_x(d3).T_z(d4).R_z(q_5).R_y(q_6).T_x(d5).R_z(q_7)]$"
   ]
  },
  {
   "attachments": {},
   "cell_type": "markdown",
   "metadata": {},
   "source": [
    "\n",
    "\n",
    "$\\Delta q_2: T_{1}^{'}=T_{base}.[R_z(q_1).H_{Ry}^{'}.R_y(q_2).T_z(d1).R_z(q_3).T_x(d2).R_y(q_4).T_x(d3).T_z(d4).R_z(q_5).R_y(q_6).T_x(d5).R_z(q_7)]$\n",
    "\n",
    "<br>  \n",
    "\n",
    "\n",
    "$p_{z1}: T_{2}^{'}=T_{base}.[R_z(q_1).R_y(q_2).H_{Tz}^{'}.R_z(q_3).T_x(d2).R_y(q_4).T_x(d3).T_z(d4).R_z(q_5).R_y(q_6).T_x(d5).R_z(q_7)]$\n",
    "\n",
    "<br>  \n",
    "\n",
    "\n",
    "\n",
    "$\\Delta q_3: T_{3}^{'}=T_{base}.[R_z(q_1).R_y(q_2).T_z(d1).H_{Rz}^{'}.R_z(q_3).T_x(d2).R_y(q_4).T_x(d3).T_z(d4).R_z(q_5).R_y(q_6).T_x(d5).R_z(q_7)]$\n",
    "\n",
    "<br>  \n",
    "\n",
    "\n",
    "\n",
    "$p_{x2}: T_{4}^{'}=T_{base}.[R_z(q_1).R_y(q_2).T_z(d1).R_z(q_3).H_{Tx}^{'}.R_y(q_4).T_x(d3).T_z(d4).R_z(q_5).R_y(q_6).T_x(d5).R_z(q_7)]$\n",
    "\n",
    "<br>  \n",
    "\n",
    "\n",
    "\n",
    "\n",
    "\n",
    "$\\Delta q_4: T_{5}^{'}=T_{base}.[R_z(q_1).R_y(q_2).T_z(d1).R_z(q_3).T_x(d2).H_{Ry}^{'}.R_y(q_4).T_x(d3).T_z(d4).R_z(q_5).R_y(q_6).T_x(d5).R_z(q_7)]$\n",
    "\n",
    "<br>  \n",
    "\n",
    "\n",
    "\n",
    "$p_{x3}: T_{6}^{'}=T_{base}.[R_z(q_1).R_y(q_2).T_z(d1).R_z(q_3).T_x(d2).R_y(q_4).H_{Tx}^{'}.T_z(d4).R_z(q_5).R_y(q_6).T_x(d5).R_z(q_7)]$\n",
    "\n",
    "<br>  \n",
    " \n",
    "\n",
    "\n",
    "\n",
    "$p_{z3}: T_{7}^{'}=T_{base}.[R_z(q_1).R_y(q_2).T_z(d1).R_z(q_3).T_x(d2).R_y(q_4).T_x(d3).H_{Tz}^{'}.R_z(q_5).R_y(q_6).T_x(d5).R_z(q_7)]$\n",
    "\n",
    "<br>  \n",
    "\n",
    "\n",
    "\n",
    "\n",
    "\n",
    "$\\Delta q_5: T_{8}^{'}=T_{base}.[R_z(q_1).R_y(q_2).T_z(d1).R_z(q_3).T_x(d2).R_y(q_4).T_x(d3).T_z(d4).H_{Rz}^{'}.R_z(q_5).R_y(q_6).T_x(d5).R_z(q_7)]$\n",
    "\n",
    "<br>  \n",
    " \n",
    "\n",
    "$\\Delta q_6: T_{9}^{'}=T_{base}.[R_z(q_1).R_y(q_2).T_z(d1).R_z(q_3).T_x(d2).R_y(q_4).T_x(d3).T_z(d4).R_z(q_5).H_{Ry}^{'}.R_y(q_6).T_x(d5).R_z(q_7)]$\n",
    "\n",
    "<br>  \n",
    "\n",
    "$p_{x5}: T_{10}^{'}=T_{base}.[R_z(q_1).R_y(q_2).T_z(d1).R_z(q_3).T_x(d2).R_y(q_4).T_x(d3).T_z(d4).R_z(q_5).R_y(q_6).H_{Tx}^{'}.R_z(q_7)]$\n"
   ]
  },
  {
   "cell_type": "code",
   "execution_count": 15,
   "metadata": {},
   "outputs": [
    {
     "name": "stdout",
     "output_type": "stream",
     "text": [
      "[[     0.7        0        0        1    0.384        1        0        0        0        1]\n",
      " [       0        0    0.088        0        0        0        0    0.088        0        0]\n",
      " [  -0.088        1        0        0  -0.0055        0        1        0   -0.088        0]\n",
      " [       0        0        0        0        0        0        0        0        0        0]\n",
      " [       1        0        0        0        1        0        0        0        1        0]\n",
      " [       0        0        1        0        0        0        0        1        0        0]]\n"
     ]
    }
   ],
   "source": [
    "\n",
    "def parameteric_jacobian(Q):\n",
    "    q1, q2, q3, q4, q5, q6, q7 =Q\n",
    "\n",
    "\n",
    "\n",
    "    T_base = Tz(d0)\n",
    "    T_robot = T_base * Rz(q1) * Ry(q2) * Tz(d1) * Rz(q3) * Tx(d2) * Ry(q4) * Tx(d3) * Tz(d4) * Rz(q5) * Ry(q6) * Tx(d5) * Rz(q7)\n",
    "    \n",
    "    T1_=T_base * Rz(q1) * Ryd(0) * Ry(q2) * Tz(d1) * Rz(q3) * Tx(d2) * Ry(q4) * Tx(d3) * Tz(d4) * Rz(q5) * Ry(q6) * Tx(d5) * Rz(q7) # q2\n",
    "    T1_np=np.array(T1_)\n",
    "    Jth1 = np.array([[T1_np[0,3], T1_np[1,3], T1_np[2,3], T1_np[2,1], T1_np[0,2], T1_np[1,0]]]).T\n",
    "    \n",
    "    T2_=T_base * Rz(q1) * Ry(q2) * Tzd * Rz(q3) * Tx(d2) * Ry(q4) * Tx(d3) * Tz(d4) * Rz(q5) * Ry(q6) * Tx(d5) * Rz(q7) # d1\n",
    "    T2_np=np.array(T2_)\n",
    "    Jth2 = np.array([[T2_np[0,3], T2_np[1,3], T2_np[2,3], T2_np[2,1], T2_np[0,2], T2_np[1,0]]]).T\n",
    "\n",
    "    T3_=T_base * Rz(q1) * Ry(q2) * Tz(d1) * Rzd(0) * Rz(q3) * Tx(d2) * Ry(q4) * Tx(d3) * Tz(d4) * Rz(q5) * Ry(q6) * Tx(d5) * Rz(q7)\n",
    "    T3_np=np.array(T3_)\n",
    "    Jth3 = np.array([[T3_np[0,3], T3_np[1,3], T3_np[2,3], T3_np[2,1], T3_np[0,2], T3_np[1,0]]]).T\n",
    "\n",
    "    T4_=T_base * Rz(q1) * Ry(q2) * Tz(d1) * Rz(q3) * Txd * Ry(q4) * Tx(d3) * Tz(d4) * Rz(q5) * Ry(q6) * Tx(d5) * Rz(q7)\n",
    "    T4_np=np.array(T4_)\n",
    "    Jth4 = np.array([[T4_np[0,3], T4_np[1,3], T4_np[2,3], T4_np[2,1], T4_np[0,2], T4_np[1,0]]]).T\n",
    "\n",
    "    T5_=T_base * Rz(q1) * Ry(q2) * Tz(d1) * Rz(q3) * Tx(d2) * Ryd(0) * Ry(q4) * Tx(d3) * Tz(d4) * Rz(q5) * Ry(q6) * Tx(d5) * Rz(q7)\n",
    "    T5_np=np.array(T5_)\n",
    "    Jth5 = np.array([[T5_np[0,3], T5_np[1,3], T5_np[2,3], T5_np[2,1], T5_np[0,2], T5_np[1,0]]]).T\n",
    "\n",
    "    T6_=T_base * Rz(q1) * Ry(q2) * Tz(d1) * Rz(q3) * Tx(d2) * Ry(q4) * Txd * Tz(d4) * Rz(q5) * Ry(q6) * Tx(d5) * Rz(q7)\n",
    "    T6_np=np.array(T6_)\n",
    "    Jth6 = np.array([[T6_np[0,3], T6_np[1,3], T6_np[2,3], T6_np[2,1], T6_np[0,2], T6_np[1,0]]]).T\n",
    "\n",
    "    T7_=T_base * Rz(q1) * Ry(q2) * Tz(d1) * Rz(q3) * Tx(d2) * Ry(q4) * Tx(d3) * Tzd * Rz(q5) * Ry(q6) * Tx(d5) * Rz(q7)\n",
    "    T7_np=np.array(T7_)\n",
    "    Jth7 = np.array([[T7_np[0,3], T7_np[1,3], T7_np[2,3], T7_np[2,1], T7_np[0,2], T7_np[1,0]]]).T\n",
    "\n",
    "    T8_=T_base * Rz(q1) * Ry(q2) * Tz(d1) * Rz(q3) * Tx(d2) * Ry(q4) * Tx(d3) * Tz(d4) * Rzd(0) * Rz(q5) * Ry(q6) * Tx(d5) * Rz(q7)\n",
    "    T8_np=np.array(T8_)\n",
    "    Jth8 = np.array([[T8_np[0,3], T8_np[1,3], T8_np[2,3], T8_np[2,1], T8_np[0,2], T8_np[1,0]]]).T\n",
    "\n",
    "    T9_=T_base * Rz(q1) * Ry(q2) * Tz(d1) * Rz(q3) * Tx(d2) * Ry(q4) * Tx(d3) * Tz(d4) * Rz(q5) * Ryd(0) * Ry(q6) * Tx(d5) * Rz(q7)\n",
    "    T9_np=np.array(T9_)\n",
    "    Jth9 = np.array([[T9_np[0,3], T9_np[1,3], T9_np[2,3], T9_np[2,1], T9_np[0,2], T9_np[1,0]]]).T\n",
    "\n",
    "    T10_=T_base * Rz(q1) * Ry(q2) * Tz(d1) * Rz(q3) * Tx(d2) * Ry(q4) * Tx(d3) * Tz(d4) * Rz(q5) * Ry(q6) * Txd * Rz(q7)\n",
    "    T10_np=np.array(T10_)\n",
    "    Jth10 = np.array([[T10_np[0,3], T10_np[1,3], T10_np[2,3], T10_np[2,1], T10_np[0,2], T10_np[1,0]]]).T\n",
    "\n",
    "    \n",
    "    J_para=np.hstack((Jth1,Jth2,Jth3,Jth4,Jth5,Jth6,Jth7,Jth8,Jth9,Jth10))\n",
    "\n",
    "    return J_para\n",
    "\n",
    "\n",
    "J = parameteric_jacobian([0, 0, 0, 0, 0, 0, 0])\n",
    "print(J)"
   ]
  },
  {
   "cell_type": "code",
   "execution_count": 19,
   "metadata": {},
   "outputs": [
    {
     "name": "stdout",
     "output_type": "stream",
     "text": [
      "[[   0.693        0        0        1   0.3802        1        0        0        0        1]\n",
      " [       0        0  0.08712        0        0        0        0  0.08712        0        0]\n",
      " [-0.08712        1        0        0 -0.005445        0        1        0 -0.08712        0]\n",
      " [       0        0        0        0        0        0        0        0        0        0]\n",
      " [       1        0        0        0        1        0        0        0        1        0]\n",
      " [       0        0        1        0        0        0        0        1        0        0]]\n"
     ]
    }
   ],
   "source": [
    "def parameteric_jacobian_def(Q):\n",
    "    q1, q2, q3, q4, q5, q6, q7 =Q\n",
    "    \n",
    "    d0 = 0.333 \n",
    "    d1 = 0.316\n",
    "    d2 = 0.0825\n",
    "    d3 = -0.0825\n",
    "    d4= 0.384\n",
    "    d5 = 0.088\n",
    "    d6 = 210\n",
    "\n",
    "    d0_n = d0 - d0/100\n",
    "    d1_n = d1 - d1/100\n",
    "    d2_n = d2 - d2/100\n",
    "    d3_n = d3 - d3/100\n",
    "    d4_n = d4 - d4/100\n",
    "    d5_n = d5 - d5/100\n",
    "    d6_n = d6 - d6/100\n",
    "\n",
    "    T_base = Tz(d0)\n",
    "    T_robot = T_base * Rz(q1) * Ry(q2) * Tz(d1_n) * Rz(q3) * Tx(d2_n) * Ry(q4) * Tx(d3_n) * Tz(d4_n) * Rz(q5) * Ry(q6) * Tx(d5_n) * Rz(q7)\n",
    "    \n",
    "    T1_=T_base * Rz(q1) * Ryd(0) * Ry(q2) * Tz(d1_n) * Rz(q3) * Tx(d2_n) * Ry(q4) * Tx(d3_n) * Tz(d4_n) * Rz(q5) * Ry(q6) * Tx(d5_n) * Rz(q7) # q2\n",
    "    T1_np=np.array(T1_)\n",
    "    Jth1 = np.array([[T1_np[0,3], T1_np[1,3], T1_np[2,3], T1_np[2,1], T1_np[0,2], T1_np[1,0]]]).T\n",
    "    \n",
    "    T2_=T_base * Rz(q1) * Ry(q2) * Tzd * Rz(q3) * Tx(d2_n) * Ry(q4) * Tx(d3_n) * Tz(d4_n) * Rz(q5) * Ry(q6) * Tx(d5_n) * Rz(q7) # d1\n",
    "    T2_np=np.array(T2_)\n",
    "    Jth2 = np.array([[T2_np[0,3], T2_np[1,3], T2_np[2,3], T2_np[2,1], T2_np[0,2], T2_np[1,0]]]).T\n",
    "\n",
    "    T3_=T_base * Rz(q1) * Ry(q2) * Tz(d1_n) * Rzd(0) * Rz(q3) * Tx(d2_n) * Ry(q4) * Tx(d3_n) * Tz(d4_n) * Rz(q5) * Ry(q6) * Tx(d5_n) * Rz(q7)\n",
    "    T3_np=np.array(T3_)\n",
    "    Jth3 = np.array([[T3_np[0,3], T3_np[1,3], T3_np[2,3], T3_np[2,1], T3_np[0,2], T3_np[1,0]]]).T\n",
    "\n",
    "    T4_=T_base * Rz(q1) * Ry(q2) * Tz(d1_n) * Rz(q3) * Txd * Ry(q4) * Tx(d3_n) * Tz(d4_n) * Rz(q5) * Ry(q6) * Tx(d5_n) * Rz(q7)\n",
    "    T4_np=np.array(T4_)\n",
    "    Jth4 = np.array([[T4_np[0,3], T4_np[1,3], T4_np[2,3], T4_np[2,1], T4_np[0,2], T4_np[1,0]]]).T\n",
    "\n",
    "    T5_=T_base * Rz(q1) * Ry(q2) * Tz(d1_n) * Rz(q3) * Tx(d2_n) * Ryd(0) * Ry(q4) * Tx(d3_n) * Tz(d4_n) * Rz(q5) * Ry(q6) * Tx(d5_n) * Rz(q7)\n",
    "    T5_np=np.array(T5_)\n",
    "    Jth5 = np.array([[T5_np[0,3], T5_np[1,3], T5_np[2,3], T5_np[2,1], T5_np[0,2], T5_np[1,0]]]).T\n",
    "\n",
    "    T6_=T_base * Rz(q1) * Ry(q2) * Tz(d1_n) * Rz(q3) * Tx(d2_n) * Ry(q4) * Txd * Tz(d4_n) * Rz(q5) * Ry(q6) * Tx(d5_n) * Rz(q7)\n",
    "    T6_np=np.array(T6_)\n",
    "    Jth6 = np.array([[T6_np[0,3], T6_np[1,3], T6_np[2,3], T6_np[2,1], T6_np[0,2], T6_np[1,0]]]).T\n",
    "\n",
    "    T7_=T_base * Rz(q1) * Ry(q2) * Tz(d1_n) * Rz(q3) * Tx(d2_n) * Ry(q4) * Tx(d3_n) * Tzd * Rz(q5) * Ry(q6) * Tx(d5_n) * Rz(q7)\n",
    "    T7_np=np.array(T7_)\n",
    "    Jth7 = np.array([[T7_np[0,3], T7_np[1,3], T7_np[2,3], T7_np[2,1], T7_np[0,2], T7_np[1,0]]]).T\n",
    "\n",
    "    T8_=T_base * Rz(q1) * Ry(q2) * Tz(d1_n) * Rz(q3) * Tx(d2_n) * Ry(q4) * Tx(d3_n) * Tz(d4_n) * Rzd(0) * Rz(q5) * Ry(q6) * Tx(d5_n) * Rz(q7)\n",
    "    T8_np=np.array(T8_)\n",
    "    Jth8 = np.array([[T8_np[0,3], T8_np[1,3], T8_np[2,3], T8_np[2,1], T8_np[0,2], T8_np[1,0]]]).T\n",
    "\n",
    "    T9_=T_base * Rz(q1) * Ry(q2) * Tz(d1_n) * Rz(q3) * Tx(d2_n) * Ry(q4) * Tx(d3_n) * Tz(d4_n) * Rz(q5) * Ryd(0) * Ry(q6) * Tx(d5_n) * Rz(q7)\n",
    "    T9_np=np.array(T9_)\n",
    "    Jth9 = np.array([[T9_np[0,3], T9_np[1,3], T9_np[2,3], T9_np[2,1], T9_np[0,2], T9_np[1,0]]]).T\n",
    "\n",
    "    T10_=T_base * Rz(q1) * Ry(q2) * Tz(d1_n) * Rz(q3) * Tx(d2_n) * Ry(q4) * Tx(d3_n) * Tz(d4_n) * Rz(q5) * Ry(q6) * Txd * Rz(q7)\n",
    "    T10_np=np.array(T10_)\n",
    "    Jth10 = np.array([[T10_np[0,3], T10_np[1,3], T10_np[2,3], T10_np[2,1], T10_np[0,2], T10_np[1,0]]]).T\n",
    "\n",
    "    \n",
    "    J_para=np.hstack((Jth1,Jth2,Jth3,Jth4,Jth5,Jth6,Jth7,Jth8,Jth9,Jth10))\n",
    "    #print(J@J.T)\n",
    "    return J_para\n",
    "\n",
    "\n",
    "\n",
    "J1 = parameteric_jacobian_def([0, 0, 0, 0, 0, 0, 0])\n",
    "print(J1)"
   ]
  },
  {
   "cell_type": "code",
   "execution_count": null,
   "metadata": {},
   "outputs": [],
   "source": [
    "\n",
    "\n"
   ]
  },
  {
   "cell_type": "code",
   "execution_count": 23,
   "metadata": {},
   "outputs": [
    {
     "name": "stdout",
     "output_type": "stream",
     "text": [
      "[[       0]\n",
      " [ 0.00316]\n",
      " [       0]\n",
      " [0.000825]\n",
      " [       0]\n",
      " [-0.000825]\n",
      " [ 0.00384]\n",
      " [       0]\n",
      " [       0]\n",
      " [ 0.00088]]\n",
      "[[       0]\n",
      " [ 0.00316]\n",
      " [       0]\n",
      " [0.000825]\n",
      " [       0]\n",
      " [-0.000825]\n",
      " [ 0.00384]\n",
      " [       0]\n",
      " [       0]\n",
      " [ 0.00088]]\n"
     ]
    }
   ],
   "source": [
    "d0 = 0.333 \n",
    "d1 = 0.316\n",
    "d2 = 0.0825\n",
    "d3 = -0.0825\n",
    "d4= 0.384\n",
    "d5 = 0.088\n",
    "d6 = 210\n",
    "\n",
    "d0_n = d0 - d0/100\n",
    "d1_n = d1 - d1/100\n",
    "d2_n = d2 - d2/100\n",
    "d3_n = d3 - d3/100\n",
    "d4_n = d4 - d4/100\n",
    "d5_n = d5 - d5/100\n",
    "d6_n = d6 - d6/100\n",
    "\n",
    "T_base = Tz(d0)\n",
    "T_robot = T_base * Rz(q1) * Ry(q2) * Tz(d1) * Rz(q3) * Tx(d2) * Ry(q4) * Tx(d3) * Tz(d4) * Rz(q5) * Ry(q6) * Tx(d5) * Rz(q7)    \n",
    "\n",
    "ql = 0\n",
    "qu = 2*pi\n",
    "D_pi=[]\n",
    "\n",
    "#\n",
    "pi_d2=0\n",
    "pi_d3=0\n",
    "pi_d4=0\n",
    "pi_d5=0\n",
    "\n",
    "pi_q2=0\n",
    "pi_q3=0\n",
    "pi_q4=0\n",
    "pi_q5=0\n",
    "\n",
    "#\n",
    "sum_pi_d2=0\n",
    "sum_pi_d3=0\n",
    "sum_pi_d4=0\n",
    "sum_pi_d5=0\n",
    "\n",
    "sum_pi_q2=0\n",
    "sum_pi_q3=0\n",
    "sum_pi_q4=0\n",
    "sum_pi_q5=0\n",
    "\n",
    "\n",
    "#\n",
    "\n",
    "Delta_ps=[]\n",
    "JJ=[]\n",
    "criteira=0\n",
    "for i in range(50):\n",
    "    q1 =ql + (qu -ql)*(np.random.rand(1)[0])\n",
    "    q2 =ql + (qu -ql)*(np.random.rand(1)[0])\n",
    "    q3 =ql + (qu -ql)*(np.random.rand(1)[0])\n",
    "    q4 = ql + (qu -ql)*(np.random.rand(1)[0])\n",
    "    q5 = ql + (qu -ql)*(np.random.rand(1)[0])\n",
    "    q6 = ql + (qu -ql)*(np.random.rand(1)[0])\n",
    "    q7 = ql + (qu -ql)*(np.random.rand(1)[0])\n",
    "    \n",
    "\n",
    "\n",
    "    T_robot = T_base * Rz(q1) * Ry(q2) * Tz(d1) * Rz(q3) * Tx(d2) * Ry(q4) * Tx(d3) * Tz(d4) * Rz(q5) * Ry(q6) * Tx(d5) * Rz(q7)\n",
    "\n",
    "    # print(Te)\n",
    "    real_pos=np.hstack((T_robot.t,T_robot.eul()))\n",
    "    real_pos=np.array([real_pos])\n",
    "\n",
    "    Corrected_model= T_base * Rz(q1) * Ry(q2) * Tz(d1_n) * Rz(q3) * Tx(d2_n) * Ry(q4) * Tx(d3_n) * Tz(d4_n) * Rz(q5) * Ry(q6) * Tx(d5_n) * Rz(q7)\n",
    "    # print(Corrected_model)\n",
    "    Corrected_pos=np.hstack((Corrected_model.t,Corrected_model.eul()))\n",
    "    Corrected_pos=np.array([Corrected_pos])\n",
    "    \n",
    "    Q=[q1,q2,q3,q4,q5,q6,q7]\n",
    "    J=parameteric_jacobian_def(Q)\n",
    "\n",
    "    delta_p=real_pos-Corrected_pos\n",
    "\n",
    "\n",
    "    if i==0:\n",
    "         Delta_ps=delta_p.T\n",
    "         JJ=J\n",
    "    else:\n",
    "         Delta_ps=np.vstack((Delta_ps,delta_p.T))\n",
    "         JJ=np.vstack((JJ,J))\n",
    "\n",
    "d_pi=(np.linalg.inv(JJ.T@JJ))@((JJ.T)@(Delta_ps))\n",
    "print(d_pi)\n",
    "# print(\"pi_d2, delta_d2\",d_pi[0][0],-0.05*d2)\n",
    "# print(\"pi_d3, delta_d3\",d_pi[2][0],-0.05*d3)\n",
    "# print(\"pi_d4, delta_d4\",d_pi[4][0],-0.05*d4)\n",
    "# print(\"pi_d5, delta_d5\",d_pi[5][0],-0.05*d5)\n",
    "\n",
    "# pi_d2=D_pi[:,0]\n",
    "# pi_d3=d_pi[11]\n",
    "# pi_d4=d_pi[2]\n",
    "# pi_d5=d_pi[3]\n",
    "\n",
    "# pi_q2=d_pi[4]\n",
    "# pi_q3=d_pi[5]\n",
    "# pi_q4=d_pi[6]\n",
    "# pi_q5=d_pi[7]\n",
    "# corrected_model\n",
    "print(d_pi)\n",
    "\n",
    "\n"
   ]
  }
 ],
 "metadata": {
  "kernelspec": {
   "display_name": "Python 3",
   "language": "python",
   "name": "python3"
  },
  "language_info": {
   "codemirror_mode": {
    "name": "ipython",
    "version": 3
   },
   "file_extension": ".py",
   "mimetype": "text/x-python",
   "name": "python",
   "nbconvert_exporter": "python",
   "pygments_lexer": "ipython3",
   "version": "3.10.6"
  },
  "orig_nbformat": 4,
  "vscode": {
   "interpreter": {
    "hash": "2c9d0f0800ad6f841a628d30bb081810f1ee6932276d033af172c2574f51d660"
   }
  }
 },
 "nbformat": 4,
 "nbformat_minor": 2
}
