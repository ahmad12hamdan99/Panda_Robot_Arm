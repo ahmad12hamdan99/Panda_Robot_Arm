{
 "cells": [
  {
   "cell_type": "code",
   "execution_count": 1,
   "metadata": {},
   "outputs": [],
   "source": [
    "import numpy as np\n",
    "import roboticstoolbox as rtb\n",
    "from spatialmath import *\n",
    "from math import pi\n",
    "import matplotlib.pyplot as plt\n",
    "from matplotlib import cm\n",
    "#np.set_printoptions(linewidth=100, formatter={'float': lambda x: f\"{x:8.4g}\" if abs(x) > 1e-10 else f\"{0:8.4g}\"})\n",
    "\n",
    "#%matplotlib notebook\n",
    "%matplotlib Qt\n",
    "#%matplotlib widgets"
   ]
  },
  {
   "cell_type": "code",
   "execution_count": 2,
   "metadata": {},
   "outputs": [
    {
     "name": "stdout",
     "output_type": "stream",
     "text": [
      "DHRobot: UR5 (by Universal Robotics), 6 joints (RRRRRR), dynamics, standard DH parameters\n",
      "┌────┬─────────┬─────────┬────────┐\n",
      "│θⱼ  │   dⱼ    │   aⱼ    │   ⍺ⱼ   │\n",
      "├────┼─────────┼─────────┼────────┤\n",
      "│ q1\u001b[0m │ 0.08946\u001b[0m │       0\u001b[0m │  90.0°\u001b[0m │\n",
      "│ q2\u001b[0m │       0\u001b[0m │  -0.425\u001b[0m │   0.0°\u001b[0m │\n",
      "│ q3\u001b[0m │       0\u001b[0m │ -0.3922\u001b[0m │   0.0°\u001b[0m │\n",
      "│ q4\u001b[0m │  0.1091\u001b[0m │       0\u001b[0m │  90.0°\u001b[0m │\n",
      "│ q5\u001b[0m │ 0.09465\u001b[0m │       0\u001b[0m │ -90.0°\u001b[0m │\n",
      "│ q6\u001b[0m │  0.0823\u001b[0m │       0\u001b[0m │   0.0°\u001b[0m │\n",
      "└────┴─────────┴─────────┴────────┘\n",
      "\n",
      "┌─┬──┐\n",
      "└─┴──┘\n",
      "\n",
      "┌─────┬───────┬─────┬─────┬─────┬──────┬─────┐\n",
      "│name │ q0    │ q1  │ q2  │ q3  │ q4   │ q5  │\n",
      "├─────┼───────┼─────┼─────┼─────┼──────┼─────┤\n",
      "│  qr\u001b[0m │  180°\u001b[0m │  0°\u001b[0m │  0°\u001b[0m │  0°\u001b[0m │  90°\u001b[0m │  0°\u001b[0m │\n",
      "│  qz\u001b[0m │  0°\u001b[0m   │  0°\u001b[0m │  0°\u001b[0m │  0°\u001b[0m │  0°\u001b[0m  │  0°\u001b[0m │\n",
      "└─────┴───────┴─────┴─────┴─────┴──────┴─────┘\n",
      "\n"
     ]
    }
   ],
   "source": [
    "robot = rtb.models.DH.UR5()                  # instantiate robot model\n",
    "print(robot)"
   ]
  },
  {
   "cell_type": "code",
   "execution_count": 3,
   "metadata": {},
   "outputs": [
    {
     "name": "stdout",
     "output_type": "stream",
     "text": [
      "[0. 0. 0. 0. 0. 0.]\n"
     ]
    }
   ],
   "source": [
    "print(robot.qz)"
   ]
  },
  {
   "cell_type": "code",
   "execution_count": 83,
   "metadata": {},
   "outputs": [
    {
     "name": "stdout",
     "output_type": "stream",
     "text": [
      "  \u001b[38;5;1m 0.8372  \u001b[0m \u001b[38;5;1m 0.4518  \u001b[0m \u001b[38;5;1m-0.3082  \u001b[0m \u001b[38;5;4m-0.9884  \u001b[0m  \u001b[0m\n",
      "  \u001b[38;5;1m-0.00648 \u001b[0m \u001b[38;5;1m-0.5553  \u001b[0m \u001b[38;5;1m-0.8316  \u001b[0m \u001b[38;5;4m 0.2609  \u001b[0m  \u001b[0m\n",
      "  \u001b[38;5;1m-0.5469  \u001b[0m \u001b[38;5;1m 0.6982  \u001b[0m \u001b[38;5;1m-0.462   \u001b[0m \u001b[38;5;4m 0.7955  \u001b[0m  \u001b[0m\n",
      "  \u001b[38;5;244m 0       \u001b[0m \u001b[38;5;244m 0       \u001b[0m \u001b[38;5;244m 0       \u001b[0m \u001b[38;5;244m 1       \u001b[0m  \u001b[0m\n",
      "\n"
     ]
    }
   ],
   "source": [
    "T = robot.fkine([-0.5, -0.5, -0.4, -0.4, -0.5, 0.6])  # forward kinematics\n",
    "print(T)"
   ]
  },
  {
   "attachments": {},
   "cell_type": "markdown",
   "metadata": {},
   "source": [
    "## Inverse\n",
    "```ikine_LM ```is a generalised iterative numerical solution based on Levenberg-Marquadt minimization, and additional status results are also returned as part of a named tuple."
   ]
  },
  {
   "cell_type": "code",
   "execution_count": 85,
   "metadata": {},
   "outputs": [
    {
     "name": "stdout",
     "output_type": "stream",
     "text": [
      "IKsolution(q=array([-0.5, -0.5, -0.4, -0.4, -0.5,  0.6]), success=True, reason=None, iterations=13, residual=6.227239400869449e-12)\n"
     ]
    }
   ],
   "source": [
    "sol = robot.ikine_LM(T)                     # inverse kinematics\n",
    "print(sol)"
   ]
  },
  {
   "attachments": {},
   "cell_type": "markdown",
   "metadata": {},
   "source": [
    "## Plot\n"
   ]
  },
  {
   "cell_type": "code",
   "execution_count": 87,
   "metadata": {},
   "outputs": [
    {
     "data": {
      "text/plain": [
       "PyPlot3D backend, t = 0.05, scene:\n",
       "  UR10"
      ]
     },
     "execution_count": 87,
     "metadata": {},
     "output_type": "execute_result"
    }
   ],
   "source": [
    "robot.plot(sol.q, block=False)"
   ]
  },
  {
   "attachments": {},
   "cell_type": "markdown",
   "metadata": {},
   "source": [
    "# URDF"
   ]
  },
  {
   "cell_type": "code",
   "execution_count": 88,
   "metadata": {},
   "outputs": [
    {
     "name": "stdout",
     "output_type": "stream",
     "text": [
      "ERobot: UR10 (by Universal Robotics), 6 joints (RRRRRR), 3 branches, dynamics, geometry, collision\n",
      "┌─────┬────────────────┬───────┬────────────────┬──────────────────────────────────────────┐\n",
      "│link │      link      │ joint │     parent     │           ETS: parent to link            │\n",
      "├─────┼────────────────┼───────┼────────────────┼──────────────────────────────────────────┤\n",
      "│   0\u001b[0m │ \u001b[38;5;4mworld\u001b[0m          │      \u001b[0m │ BASE\u001b[0m           │ \u001b[0m                                         │\n",
      "│   1\u001b[0m │ \u001b[38;5;4mbase_link\u001b[0m      │      \u001b[0m │ world\u001b[0m          │ SE3()\u001b[0m                                    │\n",
      "│   2\u001b[0m │ shoulder_link\u001b[0m  │     0\u001b[0m │ base_link\u001b[0m      │ SE3(0, 0, 0.1273) ⊕ Rz(q0)\u001b[0m               │\n",
      "│   3\u001b[0m │ upper_arm_link\u001b[0m │     1\u001b[0m │ shoulder_link\u001b[0m  │ SE3(0, 0.2209, 0; 0°, 90°, -0°) ⊕ Ry(q1)\u001b[0m │\n",
      "│   4\u001b[0m │ forearm_link\u001b[0m   │     2\u001b[0m │ upper_arm_link\u001b[0m │ SE3(0, -0.1719, 0.612) ⊕ Ry(q2)\u001b[0m          │\n",
      "│   5\u001b[0m │ wrist_1_link\u001b[0m   │     3\u001b[0m │ forearm_link\u001b[0m   │ SE3(0, 0, 0.5723; 0°, 90°, -0°) ⊕ Ry(q3)\u001b[0m │\n",
      "│   6\u001b[0m │ wrist_2_link\u001b[0m   │     4\u001b[0m │ wrist_1_link\u001b[0m   │ SE3(0, 0.1149, 0) ⊕ Rz(q4)\u001b[0m               │\n",
      "│   7\u001b[0m │ wrist_3_link\u001b[0m   │     5\u001b[0m │ wrist_2_link\u001b[0m   │ SE3(0, 0, 0.1157) ⊕ Ry(q5)\u001b[0m               │\n",
      "│   8\u001b[0m │ \u001b[38;5;4m@ee_link\u001b[0m       │      \u001b[0m │ wrist_3_link\u001b[0m   │ SE3(0, 0.0922, 0; 0°, -0°, 90°)\u001b[0m          │\n",
      "│   9\u001b[0m │ \u001b[38;5;4m@tool0\u001b[0m         │      \u001b[0m │ wrist_3_link\u001b[0m   │ SE3(0, 0.0922, 0; -90°, -0°, 0°)\u001b[0m         │\n",
      "│  10\u001b[0m │ \u001b[38;5;4m@base\u001b[0m          │      \u001b[0m │ base_link\u001b[0m      │ SE3(0°, -0°, -180°)\u001b[0m                      │\n",
      "└─────┴────────────────┴───────┴────────────────┴──────────────────────────────────────────┘\n",
      "\n",
      "┌─────┬───────┬─────┬─────┬─────┬──────┬─────┐\n",
      "│name │ q0    │ q1  │ q2  │ q3  │ q4   │ q5  │\n",
      "├─────┼───────┼─────┼─────┼─────┼──────┼─────┤\n",
      "│  qr\u001b[0m │  180°\u001b[0m │  0°\u001b[0m │  0°\u001b[0m │  0°\u001b[0m │  90°\u001b[0m │  0°\u001b[0m │\n",
      "│  qz\u001b[0m │  0°\u001b[0m   │  0°\u001b[0m │  0°\u001b[0m │  0°\u001b[0m │  0°\u001b[0m  │  0°\u001b[0m │\n",
      "└─────┴───────┴─────┴─────┴─────┴──────┴─────┘\n",
      "\n"
     ]
    }
   ],
   "source": [
    "robot = rtb.models.URDF.UR10()\n",
    "print(robot)"
   ]
  },
  {
   "cell_type": "code",
   "execution_count": 90,
   "metadata": {},
   "outputs": [
    {
     "data": {
      "text/plain": [
       "Swift backend, t = 0.05, scene:\n",
       "  UR10"
      ]
     },
     "execution_count": 90,
     "metadata": {},
     "output_type": "execute_result"
    }
   ],
   "source": [
    "robot.plot(robot.qz, backend=\"swift\")"
   ]
  },
  {
   "attachments": {},
   "cell_type": "markdown",
   "metadata": {},
   "source": [
    "## Trajectories"
   ]
  },
  {
   "cell_type": "code",
   "execution_count": 95,
   "metadata": {},
   "outputs": [],
   "source": [
    "robot = rtb.models.DH.UR10()\n",
    "traj = rtb.jtraj(robot.qr, robot.qz, 100)"
   ]
  },
  {
   "cell_type": "code",
   "execution_count": 96,
   "metadata": {},
   "outputs": [
    {
     "data": {
      "text/plain": [
       "PyPlot3D backend, t = 4.99999999999999, scene:\n",
       "  UR10"
      ]
     },
     "execution_count": 96,
     "metadata": {},
     "output_type": "execute_result"
    }
   ],
   "source": [
    "robot.plot(traj.q, block=False)"
   ]
  },
  {
   "cell_type": "code",
   "execution_count": 22,
   "metadata": {},
   "outputs": [
    {
     "data": {
      "text/plain": [
       "PyPlot3D backend, t = 4.99999999999999, scene:\n",
       "  UR10"
      ]
     },
     "execution_count": 22,
     "metadata": {},
     "output_type": "execute_result"
    }
   ],
   "source": []
  }
 ],
 "metadata": {
  "kernelspec": {
   "display_name": "Python 3",
   "language": "python",
   "name": "python3"
  },
  "language_info": {
   "codemirror_mode": {
    "name": "ipython",
    "version": 3
   },
   "file_extension": ".py",
   "mimetype": "text/x-python",
   "name": "python",
   "nbconvert_exporter": "python",
   "pygments_lexer": "ipython3",
   "version": "3.11.0"
  },
  "orig_nbformat": 4,
  "vscode": {
   "interpreter": {
    "hash": "2c9d0f0800ad6f841a628d30bb081810f1ee6932276d033af172c2574f51d660"
   }
  }
 },
 "nbformat": 4,
 "nbformat_minor": 2
}
