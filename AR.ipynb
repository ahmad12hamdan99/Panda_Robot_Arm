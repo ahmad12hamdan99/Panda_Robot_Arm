{
 "cells": [
  {
   "attachments": {},
   "cell_type": "markdown",
   "metadata": {},
   "source": [
    "# Advanced Robotics \n",
    "1. Ahmad Hamdan\n",
    "2. Ghadeer Issa"
   ]
  },
  {
   "cell_type": "code",
   "execution_count": 18,
   "metadata": {},
   "outputs": [],
   "source": [
    "import numpy as np\n",
    "import roboticstoolbox as rtb\n",
    "from spatialmath import *\n",
    "from math import pi\n",
    "import matplotlib.pyplot as plt\n",
    "from matplotlib import cm\n",
    "np.set_printoptions(linewidth=100, formatter={'float': lambda x: f\"{x:8.4g}\" if abs(x) > 1e-10 else f\"{0:8.4g}\"})\n",
    "\n",
    "#%matplotlib notebook\n",
    "%matplotlib Qt\n",
    "#%matplotlib widgets"
   ]
  },
  {
   "attachments": {},
   "cell_type": "markdown",
   "metadata": {},
   "source": [
    "![title](img/banda.png)"
   ]
  },
  {
   "attachments": {},
   "cell_type": "markdown",
   "metadata": {},
   "source": [
    "## DH Parameters"
   ]
  },
  {
   "cell_type": "code",
   "execution_count": 19,
   "metadata": {},
   "outputs": [
    {
     "name": "stdout",
     "output_type": "stream",
     "text": [
      "DHRobot: Panda (by Franka Emika), 7 joints (RRRRRRR), dynamics, geometry, modified DH parameters\n",
      "┌────────┬────────┬─────┬───────┬─────────┬────────┐\n",
      "│ aⱼ₋₁   │  ⍺ⱼ₋₁  │ θⱼ  │  dⱼ   │   q⁻    │   q⁺   │\n",
      "├────────┼────────┼─────┼───────┼─────────┼────────┤\n",
      "│    0.0\u001b[0m │   0.0°\u001b[0m │  q1\u001b[0m │ 0.333\u001b[0m │ -166.0°\u001b[0m │ 166.0°\u001b[0m │\n",
      "│    0.0\u001b[0m │ -90.0°\u001b[0m │  q2\u001b[0m │   0.0\u001b[0m │ -101.0°\u001b[0m │ 101.0°\u001b[0m │\n",
      "│    0.0\u001b[0m │  90.0°\u001b[0m │  q3\u001b[0m │ 0.316\u001b[0m │ -166.0°\u001b[0m │ 166.0°\u001b[0m │\n",
      "│ 0.0825\u001b[0m │  90.0°\u001b[0m │  q4\u001b[0m │   0.0\u001b[0m │ -176.0°\u001b[0m │  -4.0°\u001b[0m │\n",
      "│-0.0825\u001b[0m │ -90.0°\u001b[0m │  q5\u001b[0m │ 0.384\u001b[0m │ -166.0°\u001b[0m │ 166.0°\u001b[0m │\n",
      "│    0.0\u001b[0m │  90.0°\u001b[0m │  q6\u001b[0m │   0.0\u001b[0m │   -1.0°\u001b[0m │ 215.0°\u001b[0m │\n",
      "│  0.088\u001b[0m │  90.0°\u001b[0m │  q7\u001b[0m │ 0.107\u001b[0m │ -166.0°\u001b[0m │ 166.0°\u001b[0m │\n",
      "└────────┴────────┴─────┴───────┴─────────┴────────┘\n",
      "\n",
      "┌─────┬──────┐\n",
      "│tool\u001b[0m │ None\u001b[0m │\n",
      "└─────┴──────┘\n",
      "\n",
      "┌─────┬─────┬────────┬─────┬───────┬─────┬───────┬──────┐\n",
      "│name │ q0  │ q1     │ q2  │ q3    │ q4  │ q5    │ q6   │\n",
      "├─────┼─────┼────────┼─────┼───────┼─────┼───────┼──────┤\n",
      "│  qr\u001b[0m │  0°\u001b[0m │ -17.2°\u001b[0m │  0°\u001b[0m │ -126°\u001b[0m │  0°\u001b[0m │  115°\u001b[0m │  45°\u001b[0m │\n",
      "│  qz\u001b[0m │  0°\u001b[0m │  0°\u001b[0m    │  0°\u001b[0m │  0°\u001b[0m   │  0°\u001b[0m │  0°\u001b[0m   │  0°\u001b[0m  │\n",
      "└─────┴─────┴────────┴─────┴───────┴─────┴───────┴──────┘\n",
      "\n"
     ]
    }
   ],
   "source": [
    "robot = rtb.models.DH.Panda()                  # instantiate robot model\n",
    "print(robot)"
   ]
  },
  {
   "attachments": {},
   "cell_type": "markdown",
   "metadata": {},
   "source": [
    "The first table shows the kinematic parameters, and from the column titles we can see clearly that this is expressed in terms of standard Denavit-Hartenberg parameters.  The first column shows that the joint variables qi are rotations since they are in the θ column.  Joint limits are also shown.  Joint flip (motion in the opposite sense) would be indicated by the joint variable being shown as for example like `-q3`.\n",
    "\n",
    "The second table shows some named joint configurations.  For example `ur10.qr`"
   ]
  },
  {
   "attachments": {},
   "cell_type": "markdown",
   "metadata": {},
   "source": [
    "## Robot Model"
   ]
  },
  {
   "cell_type": "code",
   "execution_count": 20,
   "metadata": {},
   "outputs": [
    {
     "name": "stdout",
     "output_type": "stream",
     "text": [
      "ERobot: panda (by Franka Emika), 7 joints (RRRRRRR), 1 gripper, geometry, collision\n",
      "┌─────┬──────────────┬───────┬─────────────┬────────────────────────────────────────────────┐\n",
      "│link │     link     │ joint │   parent    │              ETS: parent to link               │\n",
      "├─────┼──────────────┼───────┼─────────────┼────────────────────────────────────────────────┤\n",
      "│   0\u001b[0m │ \u001b[38;5;4mpanda_link0\u001b[0m  │      \u001b[0m │ BASE\u001b[0m        │ \u001b[0m                                               │\n",
      "│   1\u001b[0m │ panda_link1\u001b[0m  │     0\u001b[0m │ panda_link0\u001b[0m │ SE3(0, 0, 0.333) ⊕ Rz(q0)\u001b[0m                      │\n",
      "│   2\u001b[0m │ panda_link2\u001b[0m  │     1\u001b[0m │ panda_link1\u001b[0m │ SE3(-90°, -0°, 0°) ⊕ Rz(q1)\u001b[0m                    │\n",
      "│   3\u001b[0m │ panda_link3\u001b[0m  │     2\u001b[0m │ panda_link2\u001b[0m │ SE3(0, -0.316, 0; 90°, -0°, 0°) ⊕ Rz(q2)\u001b[0m       │\n",
      "│   4\u001b[0m │ panda_link4\u001b[0m  │     3\u001b[0m │ panda_link3\u001b[0m │ SE3(0.0825, 0, 0; 90°, -0°, 0°) ⊕ Rz(q3)\u001b[0m       │\n",
      "│   5\u001b[0m │ panda_link5\u001b[0m  │     4\u001b[0m │ panda_link4\u001b[0m │ SE3(-0.0825, 0.384, 0; -90°, -0°, 0°) ⊕ Rz(q4)\u001b[0m │\n",
      "│   6\u001b[0m │ panda_link6\u001b[0m  │     5\u001b[0m │ panda_link5\u001b[0m │ SE3(90°, -0°, 0°) ⊕ Rz(q5)\u001b[0m                     │\n",
      "│   7\u001b[0m │ panda_link7\u001b[0m  │     6\u001b[0m │ panda_link6\u001b[0m │ SE3(0.088, 0, 0; 90°, -0°, 0°) ⊕ Rz(q6)\u001b[0m        │\n",
      "│   8\u001b[0m │ \u001b[38;5;4m@panda_link8\u001b[0m │      \u001b[0m │ panda_link7\u001b[0m │ SE3(0, 0, 0.107)\u001b[0m                               │\n",
      "└─────┴──────────────┴───────┴─────────────┴────────────────────────────────────────────────┘\n",
      "\n",
      "┌─────┬─────┬────────┬─────┬───────┬─────┬───────┬──────┐\n",
      "│name │ q0  │ q1     │ q2  │ q3    │ q4  │ q5    │ q6   │\n",
      "├─────┼─────┼────────┼─────┼───────┼─────┼───────┼──────┤\n",
      "│  qr\u001b[0m │  0°\u001b[0m │ -17.2°\u001b[0m │  0°\u001b[0m │ -126°\u001b[0m │  0°\u001b[0m │  115°\u001b[0m │  45°\u001b[0m │\n",
      "│  qz\u001b[0m │  0°\u001b[0m │  0°\u001b[0m    │  0°\u001b[0m │  0°\u001b[0m   │  0°\u001b[0m │  0°\u001b[0m   │  0°\u001b[0m  │\n",
      "└─────┴─────┴────────┴─────┴───────┴─────┴───────┴──────┘\n",
      "\n"
     ]
    }
   ],
   "source": [
    "robot = rtb.models.Panda()                  # instantiate robot model\n",
    "print(robot)"
   ]
  },
  {
   "cell_type": "code",
   "execution_count": 21,
   "metadata": {},
   "outputs": [
    {
     "data": {
      "text/plain": [
       "Swift backend, t = 0.05, scene:\n",
       "  panda"
      ]
     },
     "execution_count": 21,
     "metadata": {},
     "output_type": "execute_result"
    }
   ],
   "source": [
    "robot.plot(robot.qr)"
   ]
  },
  {
   "attachments": {},
   "cell_type": "markdown",
   "metadata": {},
   "source": [
    "## Forward Kinematics"
   ]
  },
  {
   "cell_type": "code",
   "execution_count": 22,
   "metadata": {},
   "outputs": [
    {
     "name": "stdout",
     "output_type": "stream",
     "text": [
      "  \u001b[38;5;1m 0.5099  \u001b[0m \u001b[38;5;1m-0.8165  \u001b[0m \u001b[38;5;1m 0.2709  \u001b[0m \u001b[38;5;4m-0.1506  \u001b[0m  \u001b[0m\n",
      "  \u001b[38;5;1m-0.6557  \u001b[0m \u001b[38;5;1m-0.5727  \u001b[0m \u001b[38;5;1m-0.492   \u001b[0m \u001b[38;5;4m-0.1306  \u001b[0m  \u001b[0m\n",
      "  \u001b[38;5;1m 0.5568  \u001b[0m \u001b[38;5;1m 0.07326 \u001b[0m \u001b[38;5;1m-0.8274  \u001b[0m \u001b[38;5;4m 0.8901  \u001b[0m  \u001b[0m\n",
      "  \u001b[38;5;244m 0       \u001b[0m \u001b[38;5;244m 0       \u001b[0m \u001b[38;5;244m 0       \u001b[0m \u001b[38;5;244m 1       \u001b[0m  \u001b[0m\n",
      "\n"
     ]
    }
   ],
   "source": [
    "T = robot.fkine([-0.5, -0.5, -0.4, -0.4, -0.5, 0.6, 0.3])  # forward kinematics\n",
    "print(T)"
   ]
  },
  {
   "attachments": {},
   "cell_type": "markdown",
   "metadata": {},
   "source": [
    "## Inverse\n",
    "```ikine_LM ```is a generalised iterative numerical solution based on Levenberg-Marquadt minimization, and additional status results are also returned as part of a named tuple."
   ]
  },
  {
   "cell_type": "code",
   "execution_count": 23,
   "metadata": {},
   "outputs": [
    {
     "name": "stdout",
     "output_type": "stream",
     "text": [
      "IKsolution(q=array([ -0.5582,  -0.4728,   -0.495,  -0.3804,  -0.3841,   0.6033,   0.2596]), success=True, reason=None, iterations=18, residual=7.920168289901014e-11)\n"
     ]
    }
   ],
   "source": [
    "sol = robot.ikine_LM(T)                     # inverse kinematics\n",
    "print(sol)"
   ]
  },
  {
   "attachments": {},
   "cell_type": "markdown",
   "metadata": {},
   "source": [
    "## Plot \n",
    "Plotting the robot model and configuration using swift\n"
   ]
  },
  {
   "cell_type": "code",
   "execution_count": 24,
   "metadata": {},
   "outputs": [
    {
     "data": {
      "text/plain": [
       "Swift backend, t = 0.05, scene:\n",
       "  panda"
      ]
     },
     "execution_count": 24,
     "metadata": {},
     "output_type": "execute_result"
    }
   ],
   "source": [
    "robot.plot(sol.q, backend='swift')"
   ]
  },
  {
   "attachments": {},
   "cell_type": "markdown",
   "metadata": {},
   "source": [
    "## Jacobian\n",
    "\n",
    "Calculating Jacbian and simulating the movement between 2 points."
   ]
  },
  {
   "cell_type": "code",
   "execution_count": 25,
   "metadata": {},
   "outputs": [
    {
     "name": "stdout",
     "output_type": "stream",
     "text": [
      "[[ 0.06223   0.3462  0.06223  -0.1228  0.06223   0.1488        0]\n",
      " [-0.06223   0.3462 -0.06223  -0.1228 -0.06223   0.1488        0]\n",
      " [       0    0.088        0  -0.0055        0   -0.088        0]\n",
      " [       0   0.7071        0  -0.7071        0  -0.7071        0]\n",
      " [       0  -0.7071        0   0.7071        0   0.7071        0]\n",
      " [      -1        0       -1        0       -1        0        1]]\n"
     ]
    }
   ],
   "source": [
    "Je = robot.jacobe([0,0,0,0,0,0, 0])  \n",
    "print(Je)"
   ]
  },
  {
   "cell_type": "code",
   "execution_count": 26,
   "metadata": {},
   "outputs": [
    {
     "data": {
      "text/plain": [
       "Swift backend, t = 4.99999999999999, scene:\n",
       "  panda"
      ]
     },
     "execution_count": 26,
     "metadata": {},
     "output_type": "execute_result"
    }
   ],
   "source": [
    "#simulating trajectory between 2 configurations\n",
    "traj = rtb.jtraj(robot.qr, sol.q, 100)\n",
    "robot.plot(traj.q, backend='swift')"
   ]
  },
  {
   "attachments": {},
   "cell_type": "markdown",
   "metadata": {},
   "source": [
    "## Dynamics"
   ]
  },
  {
   "cell_type": "code",
   "execution_count": 27,
   "metadata": {},
   "outputs": [
    {
     "name": "stdout",
     "output_type": "stream",
     "text": [
      "[       0    -10.6        0    14.59        0   0.7089        0]\n"
     ]
    }
   ],
   "source": [
    "robot = rtb.models.DH.Panda()\n",
    "#print(robot)\n",
    "tau = robot.rne(robot.qr, np.zeros((7,)), np.zeros((7,)))\n",
    "print(tau)"
   ]
  },
  {
   "cell_type": "code",
   "execution_count": 28,
   "metadata": {},
   "outputs": [
    {
     "data": {
      "text/plain": [
       "array([       0,    -10.6,        0,    14.59,        0,   0.7089,        0])"
      ]
     },
     "execution_count": 28,
     "metadata": {},
     "output_type": "execute_result"
    }
   ],
   "source": [
    "robot.gravload(robot.qr)"
   ]
  },
  {
   "cell_type": "code",
   "execution_count": 29,
   "metadata": {},
   "outputs": [
    {
     "data": {
      "text/plain": [
       "array([[  0.7157, -0.009531,   0.7227, -0.001752,  0.01999, 0.001711, -0.004823],\n",
       "       [-0.009531,    1.666, -0.008879,  -0.6112, 0.0008622, -0.03739,  0.00137],\n",
       "       [  0.7227, -0.008879,   0.8504, -0.003926,    0.015, 0.001659, -0.004655],\n",
       "       [-0.001752,  -0.6112, -0.003926,   0.7108, -0.0008622,  0.06189, -0.00137],\n",
       "       [ 0.01999, 0.0008622,    0.015, -0.0008622,  0.02389, -0.0006332, 0.001711],\n",
       "       [0.001711, -0.03739, 0.001659,  0.06189, -0.0006332,  0.03039, -0.00137],\n",
       "       [-0.004823,  0.00137, -0.004655, -0.00137, 0.001711, -0.00137, 0.004815]])"
      ]
     },
     "execution_count": 29,
     "metadata": {},
     "output_type": "execute_result"
    }
   ],
   "source": [
    "robot.inertia(robot.qr)"
   ]
  },
  {
   "attachments": {},
   "cell_type": "markdown",
   "metadata": {},
   "source": [
    "The velocity terms are a bit harder to comprehend but they mean that rotation of one joint (and its link) can exert a torque on other joints. Consider that the should joint is rotating at 1 rad/sec, then the torque will be"
   ]
  },
  {
   "attachments": {},
   "cell_type": "markdown",
   "metadata": {},
   "source": [
    "# Calibration\n"
   ]
  },
  {
   "cell_type": "code",
   "execution_count": 46,
   "metadata": {},
   "outputs": [
    {
     "name": "stdout",
     "output_type": "stream",
     "text": [
      "tz(0.333) ⊕ Rz(q0) ⊕ Ry(q1) ⊕ tz(0.316) ⊕ Rz(q2) ⊕ tx(0.0825) ⊕ Ry(-q3) ⊕ tx(-0.0825) ⊕ tz(0.384) ⊕ Rz(q4) ⊕ Ry(-q5) ⊕ tx(0.088) ⊕ Rx(180°) ⊕ tz(0.107) ⊕ Rz(q6)\n",
      "\n",
      "  \u001b[38;5;1m 0.7071  \u001b[0m \u001b[38;5;1m 0.7071  \u001b[0m \u001b[38;5;1m 0       \u001b[0m \u001b[38;5;4m 0.088   \u001b[0m  \u001b[0m\n",
      "  \u001b[38;5;1m 0.7071  \u001b[0m \u001b[38;5;1m-0.7071  \u001b[0m \u001b[38;5;1m 0       \u001b[0m \u001b[38;5;4m 0       \u001b[0m  \u001b[0m\n",
      "  \u001b[38;5;1m 0       \u001b[0m \u001b[38;5;1m 0       \u001b[0m \u001b[38;5;1m-1       \u001b[0m \u001b[38;5;4m 0.823   \u001b[0m  \u001b[0m\n",
      "  \u001b[38;5;244m 0       \u001b[0m \u001b[38;5;244m 0       \u001b[0m \u001b[38;5;244m 0       \u001b[0m \u001b[38;5;244m 1       \u001b[0m  \u001b[0m\n",
      "\n",
      "  \u001b[38;5;1m 0.7071  \u001b[0m \u001b[38;5;1m 0.7071  \u001b[0m \u001b[38;5;1m 0       \u001b[0m \u001b[38;5;4m 0.088   \u001b[0m  \u001b[0m\n",
      "  \u001b[38;5;1m 0.7071  \u001b[0m \u001b[38;5;1m-0.7071  \u001b[0m \u001b[38;5;1m 0       \u001b[0m \u001b[38;5;4m 0       \u001b[0m  \u001b[0m\n",
      "  \u001b[38;5;1m 0       \u001b[0m \u001b[38;5;1m 0       \u001b[0m \u001b[38;5;1m-1       \u001b[0m \u001b[38;5;4m 0.823   \u001b[0m  \u001b[0m\n",
      "  \u001b[38;5;244m 0       \u001b[0m \u001b[38;5;244m 0       \u001b[0m \u001b[38;5;244m 0       \u001b[0m \u001b[38;5;244m 1       \u001b[0m  \u001b[0m\n",
      "\n"
     ]
    }
   ],
   "source": [
    "from spatialmath import SE3\n",
    "E1 = rtb.ET.tz(0.333)\n",
    "E2 = rtb.ET.Rz()\n",
    "E3 = rtb.ET.Ry()\n",
    "E4 = rtb.ET.tz(0.316)\n",
    "E5 = rtb.ET.Rz()\n",
    "E6 = rtb.ET.tx(0.0825)\n",
    "E7 = rtb.ET.Ry(flip=True)\n",
    "E8 = rtb.ET.tx(-0.0825)\n",
    "E9 = rtb.ET.tz(0.384)\n",
    "E10 = rtb.ET.Rz()\n",
    "E11 = rtb.ET.Ry(flip=True)\n",
    "E12 = rtb.ET.tx(0.088)\n",
    "E13 = rtb.ET.Rx(np.pi)\n",
    "E14 = rtb.ET.tz(0.107)\n",
    "E15 = rtb.ET.Rz()\n",
    "\n",
    "# We can make an ETS representing a Panda by incorprating all 15 ETs into an ETS\n",
    "panda = E1 * E2 * E3 * E4 * E5 * E6 * E7 * E8 * E9 * E10 * E11 * E12 * E13 * E14 * E15\n",
    "\n",
    "# View the ETS\n",
    "print(panda)\n",
    "print()\n",
    "\n",
    "q1=0\n",
    "q2=0\n",
    "q3=0\n",
    "q4=0\n",
    "q5=0\n",
    "q6=0\n",
    "q7=0\n",
    "\n",
    "E1 = SE3.Tz(0.333)\n",
    "E2 = SE3.Rz(q1)\n",
    "E3 = SE3.Ry(q2)\n",
    "E4 = SE3.Tz(0.316)\n",
    "E5 = SE3.Rz(q3)\n",
    "E6 = SE3.Tx(0.0825)\n",
    "E7 = SE3.Ry(-q4)\n",
    "E8 = SE3.Tx(-0.0825)\n",
    "E9 = SE3.Tz(0.384)\n",
    "E10 = SE3.Rz(q5)\n",
    "E11 = SE3.Ry(-q6)\n",
    "E12 = SE3.Tx(0.088)\n",
    "E13 = SE3.Rx(np.pi)\n",
    "E14 = SE3.Tz(0.210)\n",
    "E15 = SE3.Rz((-np.pi/4) + q7) \n",
    "\n",
    "panda = E1 * E2 * E3 * E4 * E5 * E6 * E7 * E8 * E9 * E10 * E11 * E12 * E13 * E14 * E15\n",
    "print(panda)\n",
    "\n",
    "print(robot.fkine([0, 0, 0, -0, 0, -0, 0]))\n",
    "\n"
   ]
  },
  {
   "attachments": {},
   "cell_type": "markdown",
   "metadata": {},
   "source": [
    "### Utils\n",
    "a collection of tranformation matrix"
   ]
  },
  {
   "cell_type": "code",
   "execution_count": 49,
   "metadata": {},
   "outputs": [],
   "source": [
    "cos=np.cos\n",
    "sin=np.sin\n",
    "pi=np.pi\n",
    "\n",
    "\n",
    "def Rxd(phi):\n",
    "    rx = np.array([[ 0,         0,         0, 0],\n",
    "                   [0, -sin(phi),  cos(phi), 0],\n",
    "                   [0, -cos(phi), -sin(phi), 0],\n",
    "                   [0,         0,         0, 0]])\n",
    "    return SE3(rx, check=False)\n",
    "\n",
    "def Ryd(phi):\n",
    "    ry = np.array([[ -sin(phi), 0,  cos(phi), 0],\n",
    "                   [0,         0,         0, 0],\n",
    "                   [-cos(phi), 0, -sin(phi), 0],\n",
    "                   [0,         0,         0, 0]])\n",
    "    return SE3(ry, check=False)\n",
    "\n",
    "def Rzd(phi):\n",
    "    rz = np.array([[ -sin(phi),  cos(phi), 0, 0],\n",
    "                   [-cos(phi), -sin(phi), 0, 0],\n",
    "                   [0,         0,         0, 0],\n",
    "                   [0,         0,         0, 0]])\n",
    "    return SE3(rz, check=False)\n",
    "Txd = np.array([[0,   0,  0,  1],\n",
    "                   [0,   0,  0,  0],\n",
    "                   [0,   0,  0,  0],\n",
    "                   [0,   0,  0,  0]])\n",
    "Tyd=np.array([[0,   0,  0,  0],\n",
    "                   [0,   0,  0,  1],\n",
    "                   [0,   0,  0,  0],\n",
    "                   [0,   0,  0,  0]])\n",
    "Tzd= np.array([[0,   0,  0,  0],\n",
    "                   [0,   0,  0,  0],\n",
    "                   [0,   0,  0,  1],\n",
    "                   [0,   0,  0,  0]])\n",
    "\n",
    "Txd=SE3(Txd, check=False)\n",
    "Tyd=SE3(Tyd, check=False)\n",
    "Tzd=SE3(Tzd, check=False)\n"
   ]
  },
  {
   "attachments": {},
   "cell_type": "markdown",
   "metadata": {},
   "source": [
    "## Irreducable model derivation:\n",
    "\n",
    "$T=[T_xT_yT_zR_xR_yR_z]_b.R_z(q_1+\\Delta q_1).[T_xT_yR_xR_y]_{L_1}.R_y(q_2+\\Delta q_2).[T_xT_zR_xR_z]_{L_2}.\n",
    "R_y(q_3+\\Delta q_3).[T_xT_zR_xR_z]_{L_3}.R_z(q_4+\\Delta q_4).[T_xT_yR_xR_y]_{L_4}.R_y(q_5+\\Delta q_5).[T_xT_zR_xR_z]_{L_5}.\n",
    "R_z(q_6+\\Delta q_6).[T_xT_yR_xR_y]_{L_6}.[T_xT_yT_zR_xR_yR_z]_t$\n",
    "\n",
    "\n",
    "\n",
    "$T=[T_xT_yT_zR_xR_yR_z]_b.R_z(q_1+\\cancel{\\Delta q_1}).[T_xT_yR_x\\cancel{R_y}]_{L_1}.R_y(q_2+\\Delta q_2).[T_x\\cancel{T_z}R_xR_z]_{L_2}.\n",
    "R_y(q_3+\\Delta q_3).[T_xT_zR_x\\cancel{R_z}]_{L_3}.R_z(q_4+\\Delta q_4).[T_xT_yR_x\\cancel{R_y}]_{L_4}.R_y(q_5+\\Delta q_5).[T_x\\cancel{T_z}R_x\\cancel{R_z}]_{L_5}.\n",
    "R_z(q_6+\\cancel{\\Delta q_6}).[\\cancel{T_x}\\cancel{T_y}\\cancel{R_x}\\cancel{R_y}]_{L_6}.[T_xT_yT_z\\cancel{R_x}\\cancel{R_y}\\cancel{R_z}]_t$\n",
    "\n",
    "\n",
    "$T_{robot}=R_z(q_1).[T_xT_yR_x]_{L_1}.R_y(q_2+\\Delta q_2).[T_xR_xR_z]_{L_2}.R_y(q_3+\\Delta q_3).[T_xT_zR_x]_{L_3}.\n",
    "R_z(q_4+\\Delta q_4).[T_xT_yR_x]_{L_4}.R_y(q_5+\\Delta q_5).[T_xR_x]_{L_5}.R_z(q_6)$\n",
    "\n",
    "\n",
    "\n",
    "$\\mathbf{\\pi}=\\{ p_{x1} \\quad p_{y1} \\quad \\varphi_{x1} \\quad \\Delta q_2 \\quad p_{x2} \\quad \\varphi_{x2} \\quad \\varphi_{z2}\n",
    "\\quad \\Delta q_3 \\quad p_{x3} \\quad p_{z3} \\quad \\varphi_{x3} \\quad \\Delta q_4 \\quad p_{x4} \\quad p_{y4} \\quad \\varphi_{x4} \\quad\n",
    "\\Delta q_5 \\quad p_{x5} \\quad \\varphi_{x6}\n",
    "\\}$\n",
    "\n",
    "\n",
    "$\\mathbf{\\pi}_0=\\{ 0 \\quad -d_2 \\quad 0 \\quad 0 \n",
    "\\quad d_3 \\quad 0 \\quad 0 \\quad 0\n",
    "\\quad d_4 \\quad d_6 \\quad 0 \\quad 0 \n",
    " \\quad 0 \\quad d_5 \\quad 0 \\quad 0 \n",
    " \\quad 0 \\quad 0\n",
    "\\}$"
   ]
  },
  {
   "cell_type": "markdown",
   "metadata": {},
   "source": []
  }
 ],
 "metadata": {
  "kernelspec": {
   "display_name": "Python 3",
   "language": "python",
   "name": "python3"
  },
  "language_info": {
   "codemirror_mode": {
    "name": "ipython",
    "version": 3
   },
   "file_extension": ".py",
   "mimetype": "text/x-python",
   "name": "python",
   "nbconvert_exporter": "python",
   "pygments_lexer": "ipython3",
   "version": "3.10.6"
  },
  "orig_nbformat": 4,
  "vscode": {
   "interpreter": {
    "hash": "2c9d0f0800ad6f841a628d30bb081810f1ee6932276d033af172c2574f51d660"
   }
  }
 },
 "nbformat": 4,
 "nbformat_minor": 2
}
