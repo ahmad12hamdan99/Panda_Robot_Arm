{
 "cells": [
  {
   "cell_type": "code",
   "execution_count": 2,
   "metadata": {},
   "outputs": [],
   "source": [
    "import roboticstoolbox as rtb \n",
    "import swift \n",
    "import numpy as np \n",
    "import spatialmath as sm\n",
    "import spatialgeometry as sg "
   ]
  },
  {
   "cell_type": "code",
   "execution_count": 4,
   "metadata": {},
   "outputs": [
    {
     "name": "stderr",
     "output_type": "stream",
     "text": [
      "/home/gh/.local/lib/python3.10/site-packages/spatialgeometry/geom/Shape.py:81: FutureWarning: base kwarg is deprecated, use pose instead\n",
      "  warn(\"base kwarg is deprecated, use pose instead\", FutureWarning)\n"
     ]
    }
   ],
   "source": [
    "env = swift.Swift()\n",
    "env.launch(realtime=True)\n",
    "\n",
    "UR=rtb.models.UR10()\n",
    "UR.q=UR.qr\n",
    "\n",
    "env.add(UR,robot_alpha=1.0,collision_alpha=0.0)\n",
    "Tep =UR.fkine(UR.q)* sm.SE3.Tx(-2)*sm.SE3.Ty(-0.5)*sm.SE3.Tz(-0.5)\n",
    "\n",
    "axes =sg.Axes(length=0.1, base=Tep)\n",
    "env.add(axes)\n",
    "\n",
    "arrived =False \n",
    "\n",
    "dt=0.1\n",
    "\n",
    "while not arrived:\n",
    "    v,arrived=rtb.p_servo(UR.fkine(UR.q),Tep,gain=0.3,threshold=0.05)\n",
    "    J=UR.jacobe(UR.q)\n",
    "    UR.qd=np.linalg.pinv(J)@v\n",
    "    env.step(dt)\n",
    "\n",
    "# env.hold()"
   ]
  },
  {
   "cell_type": "code",
   "execution_count": 9,
   "metadata": {},
   "outputs": [
    {
     "name": "stdout",
     "output_type": "stream",
     "text": [
      "[-1.57772181e-30 -1.19172179e+02 -3.84258730e+01  0.00000000e+00\n",
      "  0.00000000e+00  0.00000000e+00]\n"
     ]
    },
    {
     "ename": "TypeError",
     "evalue": "'module' object is not callable",
     "output_type": "error",
     "traceback": [
      "\u001b[0;31m---------------------------------------------------------------------------\u001b[0m",
      "\u001b[0;31mTypeError\u001b[0m                                 Traceback (most recent call last)",
      "Cell \u001b[0;32mIn[9], line 8\u001b[0m\n\u001b[1;32m      3\u001b[0m tau \u001b[39m=\u001b[39m UR\u001b[39m.\u001b[39mrne(UR\u001b[39m.\u001b[39mq, np\u001b[39m.\u001b[39mzeros((\u001b[39m6\u001b[39m,)), np\u001b[39m.\u001b[39mzeros((\u001b[39m6\u001b[39m,)))\n\u001b[1;32m      4\u001b[0m \u001b[39mprint\u001b[39m(tau)\n\u001b[0;32m----> 8\u001b[0m pyplot \u001b[39m=\u001b[39m rtb\u001b[39m.\u001b[39;49mbackends\u001b[39m.\u001b[39;49mPyPlot()\n\u001b[1;32m      9\u001b[0m pyplot\u001b[39m.\u001b[39mlaunch()\n\u001b[1;32m     10\u001b[0m pyplot\u001b[39m.\u001b[39madd(UR)\n",
      "\u001b[0;31mTypeError\u001b[0m: 'module' object is not callable"
     ]
    }
   ],
   "source": [
    "import roboticstoolbox as rtb\n",
    "UR = rtb.models.DH.UR10()\n",
    "tau = UR.rne(UR.q, np.zeros((6,)), np.zeros((6,)))\n",
    "print(tau)\n",
    "\n",
    "\n",
    "\n",
    "pyplot = rtb.backends.PyPlot()\n",
    "pyplot.launch()\n",
    "pyplot.add(UR)\n",
    "# UR.q = q\n",
    "UR.step()"
   ]
  }
 ],
 "metadata": {
  "kernelspec": {
   "display_name": "Python 3",
   "language": "python",
   "name": "python3"
  },
  "language_info": {
   "codemirror_mode": {
    "name": "ipython",
    "version": 3
   },
   "file_extension": ".py",
   "mimetype": "text/x-python",
   "name": "python",
   "nbconvert_exporter": "python",
   "pygments_lexer": "ipython3",
   "version": "3.10.6"
  },
  "orig_nbformat": 4
 },
 "nbformat": 4,
 "nbformat_minor": 2
}
